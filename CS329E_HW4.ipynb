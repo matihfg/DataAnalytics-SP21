{
 "cells": [
  {
   "cell_type": "markdown",
   "metadata": {},
   "source": [
    "### C S 329E HW 4\n",
    "\n",
    "## Pair Programming Group Number: 33\n",
    "## Members of Team: Sean Mason, Matias H. Fragoso\n",
    "\n",
    "## Decision Tree Classifier\n",
    "\n",
    "\n",
    "For this weeks homework we are going to explore ideas around decision tree implementation!  \n",
    "\n",
    "We will implement some helper functions that would be necessary for a home-grown tree:\n",
    "  - calc_entropy\n",
    "  - calc_gini\n",
    "  \n",
    "and them test them out at given data splits. \n",
    "  \n",
    "And finally, to perform predictive and descriptive analytics we use the [Decision Tree Classifier](https://scikit-learn.org/stable/modules/tree.html#classification) class in the scikit-learn package.\n",
    "\n",
    "  \n",
    "For this assignment, the stopping condition will be the depth of the tree. The impurity measure can be either `Entropy` or `Gini`.\n",
    "\n",
    "To test our tree built from the Decision Tree Classifier class, we will revisit our Melbourne housing data (that has been cleaned and pruned) and use the files:\n",
    "\n",
    "   - `melb_tree_train.csv` for training the decision tree (we'll also see what happens if we use the same data to test as we used to train the data in the last problem)\n",
    "   - `melb_tree_test.csv` for testing the decision tree\n",
    "\n",
    "There are 10 features in these dataframes that we can use to describe and predict the class label housing \"Type\", which is 'h' house, 'u' duplex, or 't' townhome. "
   ]
  },
  {
   "cell_type": "code",
   "execution_count": 1,
   "metadata": {},
   "outputs": [],
   "source": [
    "# import the libraries\n",
    "import pandas as pd\n",
    "import numpy as np\n",
    "import matplotlib.pyplot as plt\n",
    "%matplotlib inline\n",
    "from math import log2\n",
    "from sklearn import tree # you'll probably need to install this - look at Q6 for a link \n",
    "import graphviz # you'll probably need to install this - look at Q6 for a link "
   ]
  },
  {
   "cell_type": "markdown",
   "metadata": {},
   "source": [
    "## Q1 Load the Data\n",
    "Load in the melb_tree_train.csv into a dataframe, and split that dataframe into `df_X`, which contains the features of the data set (everything but `Type`), and `s_y`, the series containing just the class label (just `Type`). The lengths of `df_X` and `s_y` should match."
   ]
  },
  {
   "cell_type": "code",
   "execution_count": 2,
   "metadata": {},
   "outputs": [
    {
     "data": {
      "text/html": [
       "<div>\n",
       "<style scoped>\n",
       "    .dataframe tbody tr th:only-of-type {\n",
       "        vertical-align: middle;\n",
       "    }\n",
       "\n",
       "    .dataframe tbody tr th {\n",
       "        vertical-align: top;\n",
       "    }\n",
       "\n",
       "    .dataframe thead th {\n",
       "        text-align: right;\n",
       "    }\n",
       "</style>\n",
       "<table border=\"1\" class=\"dataframe\">\n",
       "  <thead>\n",
       "    <tr style=\"text-align: right;\">\n",
       "      <th></th>\n",
       "      <th>Type</th>\n",
       "    </tr>\n",
       "  </thead>\n",
       "  <tbody>\n",
       "    <tr>\n",
       "      <th>0</th>\n",
       "      <td>t</td>\n",
       "    </tr>\n",
       "    <tr>\n",
       "      <th>1</th>\n",
       "      <td>t</td>\n",
       "    </tr>\n",
       "    <tr>\n",
       "      <th>2</th>\n",
       "      <td>u</td>\n",
       "    </tr>\n",
       "    <tr>\n",
       "      <th>3</th>\n",
       "      <td>h</td>\n",
       "    </tr>\n",
       "    <tr>\n",
       "      <th>4</th>\n",
       "      <td>u</td>\n",
       "    </tr>\n",
       "    <tr>\n",
       "      <th>...</th>\n",
       "      <td>...</td>\n",
       "    </tr>\n",
       "    <tr>\n",
       "      <th>805</th>\n",
       "      <td>t</td>\n",
       "    </tr>\n",
       "    <tr>\n",
       "      <th>806</th>\n",
       "      <td>u</td>\n",
       "    </tr>\n",
       "    <tr>\n",
       "      <th>807</th>\n",
       "      <td>t</td>\n",
       "    </tr>\n",
       "    <tr>\n",
       "      <th>808</th>\n",
       "      <td>t</td>\n",
       "    </tr>\n",
       "    <tr>\n",
       "      <th>809</th>\n",
       "      <td>h</td>\n",
       "    </tr>\n",
       "  </tbody>\n",
       "</table>\n",
       "<p>810 rows × 1 columns</p>\n",
       "</div>"
      ],
      "text/plain": [
       "    Type\n",
       "0      t\n",
       "1      t\n",
       "2      u\n",
       "3      h\n",
       "4      u\n",
       "..   ...\n",
       "805    t\n",
       "806    u\n",
       "807    t\n",
       "808    t\n",
       "809    h\n",
       "\n",
       "[810 rows x 1 columns]"
      ]
     },
     "execution_count": 2,
     "metadata": {},
     "output_type": "execute_result"
    }
   ],
   "source": [
    "df = pd.read_csv(\"melb_tree_train.csv\")\n",
    "s_y = pd.DataFrame(df, columns=['Type'])\n",
    "df_X = df.drop(columns = 'Type')\n",
    "s_y"
   ]
  },
  {
   "cell_type": "markdown",
   "metadata": {},
   "source": [
    "## Q2 Implement a function to calculate entropy \n",
    "Implement a function `calc_entropy` that takes the the class label series, `s_y`, as a parameter. Implement using the definition on p128 in the DM book and only use pandas and log2 libraries"
   ]
  },
  {
   "cell_type": "code",
   "execution_count": 3,
   "metadata": {},
   "outputs": [],
   "source": [
    "# calc_entropy(s_y) definition\n",
    "def calc_entropy(s_y):\n",
    "    h = 0\n",
    "    t = 0\n",
    "    u = 0\n",
    "    total = len(s_y)\n",
    "    for i in range(len(s_y)):\n",
    "        if s_y['Type'][i] == 'h':\n",
    "            h+=1\n",
    "        elif s_y['Type'][i] == 't':\n",
    "            t+=1\n",
    "        else:\n",
    "            u+=1\n",
    "            \n",
    "    return -(h/total) * np.log2(h/total) -(u/total) * np.log2(u/total) -(t/total) * np.log2(t/total)"
   ]
  },
  {
   "cell_type": "markdown",
   "metadata": {},
   "source": [
    "## Q3 Use the entropy function to\n",
    "  - (a) Calculate the entropy of the entire training set\n",
    "  - (b) Calculate the entropy of the three partitions formed from \n",
    "    * Landsize $\\in$ [0,200]\n",
    "    * Landsize $\\in$ (200,450]\n",
    "    * Landsize $\\in$ (450, $\\infty$)"
   ]
  },
  {
   "cell_type": "code",
   "execution_count": 4,
   "metadata": {},
   "outputs": [
    {
     "data": {
      "text/plain": [
       "1.582533311426178"
      ]
     },
     "execution_count": 4,
     "metadata": {},
     "output_type": "execute_result"
    }
   ],
   "source": [
    "# The entire data set\n",
    "calc_entropy(s_y)"
   ]
  },
  {
   "cell_type": "code",
   "execution_count": 5,
   "metadata": {},
   "outputs": [
    {
     "data": {
      "text/plain": [
       "1.3456432116206725"
      ]
     },
     "execution_count": 5,
     "metadata": {},
     "output_type": "execute_result"
    }
   ],
   "source": [
    "# Less than or equal to 200\n",
    "less_200 = pd.DataFrame(df[df['Landsize'] <= 200], columns=['Type'])\n",
    "less_200 = less_200.reset_index(drop=True)\n",
    "calc_entropy(less_200)"
   ]
  },
  {
   "cell_type": "code",
   "execution_count": 6,
   "metadata": {},
   "outputs": [
    {
     "data": {
      "text/plain": [
       "1.4660501816027978"
      ]
     },
     "execution_count": 6,
     "metadata": {},
     "output_type": "execute_result"
    }
   ],
   "source": [
    "# Between 200 and 450\n",
    "between_200_450 = pd.DataFrame(df[(df['Landsize'] > 200) & (df['Landsize'] <= 450) ], columns=['Type'])\n",
    "between_200_450 = between_200_450.reset_index(drop=True)\n",
    "calc_entropy(between_200_450)"
   ]
  },
  {
   "cell_type": "code",
   "execution_count": 7,
   "metadata": {},
   "outputs": [
    {
     "data": {
      "text/plain": [
       "1.09954792005911"
      ]
     },
     "execution_count": 7,
     "metadata": {},
     "output_type": "execute_result"
    }
   ],
   "source": [
    "# greater than 450\n",
    "greater_450 = pd.DataFrame(df[df['Landsize'] > 450], columns=['Type'])\n",
    "greater_450 = greater_450.reset_index(drop=True)\n",
    "calc_entropy(greater_450)"
   ]
  },
  {
   "cell_type": "markdown",
   "metadata": {},
   "source": [
    "## Q4 Implement a function to calculate the Gini Index\n",
    "Implement the function `calc_gini` that takes the class label series, `s_y`, as a parameter. Implement using the definition on p128 in the DM book and only use the pandas library."
   ]
  },
  {
   "cell_type": "code",
   "execution_count": 8,
   "metadata": {},
   "outputs": [],
   "source": [
    "def calc_gini( s_y ):\n",
    "    h = 0\n",
    "    t = 0\n",
    "    u = 0\n",
    "    total = len(s_y)\n",
    "    for i in range(len(s_y)):\n",
    "        if s_y['Type'][i] == 'h':\n",
    "            h+=1\n",
    "        elif s_y['Type'][i] == 't':\n",
    "            t+=1\n",
    "        else:\n",
    "            u+=1\n",
    "    return 1- ((h/total)**2 + (t/total)**2 + (u/total)**2)"
   ]
  },
  {
   "cell_type": "markdown",
   "metadata": {},
   "source": [
    "## Q5 Use the Gini Index function to\n",
    "  - (a) Calculate the Gini index of the entire training set\n",
    "  - (b) Calculate the Gini index of the three partitions formed from \n",
    "    * Landsize $\\in$ [0,200]\n",
    "    * Landsize $\\in$ (200,450]\n",
    "    * Landsize $\\in$ (450, $\\infty$)"
   ]
  },
  {
   "cell_type": "code",
   "execution_count": 9,
   "metadata": {},
   "outputs": [
    {
     "data": {
      "text/plain": [
       "0.6655601280292638"
      ]
     },
     "execution_count": 9,
     "metadata": {},
     "output_type": "execute_result"
    }
   ],
   "source": [
    "# The entire data set\n",
    "calc_gini(s_y)"
   ]
  },
  {
   "cell_type": "code",
   "execution_count": 10,
   "metadata": {},
   "outputs": [
    {
     "data": {
      "text/plain": [
       "0.5741211482422965"
      ]
     },
     "execution_count": 10,
     "metadata": {},
     "output_type": "execute_result"
    }
   ],
   "source": [
    "# Less than or equal to 200\n",
    "calc_gini(less_200)"
   ]
  },
  {
   "cell_type": "code",
   "execution_count": 11,
   "metadata": {},
   "outputs": [
    {
     "data": {
      "text/plain": [
       "0.6101021682602731"
      ]
     },
     "execution_count": 11,
     "metadata": {},
     "output_type": "execute_result"
    }
   ],
   "source": [
    "# Between 200 and 450\n",
    "calc_gini(between_200_450)"
   ]
  },
  {
   "cell_type": "code",
   "execution_count": 12,
   "metadata": {},
   "outputs": [
    {
     "data": {
      "text/plain": [
       "0.43819341715976323"
      ]
     },
     "execution_count": 12,
     "metadata": {},
     "output_type": "execute_result"
    }
   ],
   "source": [
    "# greater than 450\n",
    "calc_gini(greater_450)"
   ]
  },
  {
   "cell_type": "markdown",
   "metadata": {},
   "source": [
    "## Q6 Create a decision tree \n",
    "Using [scikit-learn](https://scikit-learn.org/stable/modules/tree.html#tree) create a multi class classifer for the data set using the Entropy impurity measure and a max depth of 3.\n",
    "\n",
    "Note that scikit-learn's algorithm doesn't handle categorical data, so that needs to be preprocessed using an one hot encoding.\n",
    "\n",
    "Display the tree using `export_text` from sklearn.tree, and use that information to write some descriptive analytics on the classification of houses.  For extra fun, use the export_graphviz to draw the graph (see documentation on the [scikit-learn webpage](https://scikit-learn.org/stable/modules/tree.html#classification)). "
   ]
  },
  {
   "cell_type": "code",
   "execution_count": 13,
   "metadata": {},
   "outputs": [
    {
     "data": {
      "text/plain": [
       "DecisionTreeClassifier(criterion='entropy', max_depth=3)"
      ]
     },
     "execution_count": 13,
     "metadata": {},
     "output_type": "execute_result"
    }
   ],
   "source": [
    "# Create Tree\n",
    "one_hot_data = pd.get_dummies(df_X)\n",
    "clf = tree.DecisionTreeClassifier(criterion  ='entropy',max_depth=3)\n",
    "one_hot_type = pd.get_dummies(s_y)\n",
    "clf.fit(one_hot_data, s_y)"
   ]
  },
  {
   "cell_type": "code",
   "execution_count": 14,
   "metadata": {},
   "outputs": [
    {
     "data": {
      "text/plain": [
       "'|--- feature_8 <= 1977.50\\n|   |--- feature_0 <= 2.50\\n|   |   |--- feature_1 <= 915000.00\\n|   |   |   |--- class: u\\n|   |   |--- feature_1 >  915000.00\\n|   |   |   |--- class: h\\n|   |--- feature_0 >  2.50\\n|   |   |--- feature_6 <= 429.00\\n|   |   |   |--- class: h\\n|   |   |--- feature_6 >  429.00\\n|   |   |   |--- class: h\\n|--- feature_8 >  1977.50\\n|   |--- feature_7 <= 104.31\\n|   |   |--- feature_6 <= 76.00\\n|   |   |   |--- class: u\\n|   |   |--- feature_6 >  76.00\\n|   |   |   |--- class: t\\n|   |--- feature_7 >  104.31\\n|   |   |--- feature_6 <= 391.00\\n|   |   |   |--- class: t\\n|   |   |--- feature_6 >  391.00\\n|   |   |   |--- class: h\\n'"
      ]
     },
     "execution_count": 14,
     "metadata": {},
     "output_type": "execute_result"
    }
   ],
   "source": [
    "# Display text version of the tree\n",
    "tree.export_text(clf)"
   ]
  },
  {
   "cell_type": "code",
   "execution_count": 15,
   "metadata": {},
   "outputs": [
    {
     "data": {
      "image/svg+xml": [
       "<?xml version=\"1.0\" encoding=\"UTF-8\" standalone=\"no\"?>\r\n",
       "<!DOCTYPE svg PUBLIC \"-//W3C//DTD SVG 1.1//EN\"\r\n",
       " \"http://www.w3.org/Graphics/SVG/1.1/DTD/svg11.dtd\">\r\n",
       "<!-- Generated by graphviz version 2.38.0 (20140413.2041)\r\n",
       " -->\r\n",
       "<!-- Title: Tree Pages: 1 -->\r\n",
       "<svg width=\"1094pt\" height=\"433pt\"\r\n",
       " viewBox=\"0.00 0.00 1094.00 433.00\" xmlns=\"http://www.w3.org/2000/svg\" xmlns:xlink=\"http://www.w3.org/1999/xlink\">\r\n",
       "<g id=\"graph0\" class=\"graph\" transform=\"scale(1 1) rotate(0) translate(4 429)\">\r\n",
       "<title>Tree</title>\r\n",
       "<polygon fill=\"white\" stroke=\"none\" points=\"-4,4 -4,-429 1090,-429 1090,4 -4,4\"/>\r\n",
       "<!-- 0 -->\r\n",
       "<g id=\"node1\" class=\"node\"><title>0</title>\r\n",
       "<polygon fill=\"#ffffff\" stroke=\"black\" points=\"609.5,-425 463.5,-425 463.5,-342 609.5,-342 609.5,-425\"/>\r\n",
       "<text text-anchor=\"middle\" x=\"536.5\" y=\"-409.8\" font-family=\"Times New Roman,serif\" font-size=\"14.00\">YearBuilt &lt;= 1977.5</text>\r\n",
       "<text text-anchor=\"middle\" x=\"536.5\" y=\"-394.8\" font-family=\"Times New Roman,serif\" font-size=\"14.00\">entropy = 1.583</text>\r\n",
       "<text text-anchor=\"middle\" x=\"536.5\" y=\"-379.8\" font-family=\"Times New Roman,serif\" font-size=\"14.00\">samples = 810</text>\r\n",
       "<text text-anchor=\"middle\" x=\"536.5\" y=\"-364.8\" font-family=\"Times New Roman,serif\" font-size=\"14.00\">value = [248, 281, 281]</text>\r\n",
       "<text text-anchor=\"middle\" x=\"536.5\" y=\"-349.8\" font-family=\"Times New Roman,serif\" font-size=\"14.00\">class = Type_t</text>\r\n",
       "</g>\r\n",
       "<!-- 1 -->\r\n",
       "<g id=\"node2\" class=\"node\"><title>1</title>\r\n",
       "<polygon fill=\"#fae7da\" stroke=\"black\" points=\"500,-306 361,-306 361,-223 500,-223 500,-306\"/>\r\n",
       "<text text-anchor=\"middle\" x=\"430.5\" y=\"-290.8\" font-family=\"Times New Roman,serif\" font-size=\"14.00\">Rooms &lt;= 2.5</text>\r\n",
       "<text text-anchor=\"middle\" x=\"430.5\" y=\"-275.8\" font-family=\"Times New Roman,serif\" font-size=\"14.00\">entropy = 1.264</text>\r\n",
       "<text text-anchor=\"middle\" x=\"430.5\" y=\"-260.8\" font-family=\"Times New Roman,serif\" font-size=\"14.00\">samples = 370</text>\r\n",
       "<text text-anchor=\"middle\" x=\"430.5\" y=\"-245.8\" font-family=\"Times New Roman,serif\" font-size=\"14.00\">value = [194, 23, 153]</text>\r\n",
       "<text text-anchor=\"middle\" x=\"430.5\" y=\"-230.8\" font-family=\"Times New Roman,serif\" font-size=\"14.00\">class = Type_h</text>\r\n",
       "</g>\r\n",
       "<!-- 0&#45;&gt;1 -->\r\n",
       "<g id=\"edge1\" class=\"edge\"><title>0&#45;&gt;1</title>\r\n",
       "<path fill=\"none\" stroke=\"black\" d=\"M499.724,-341.907C491.42,-332.742 482.528,-322.927 473.977,-313.489\"/>\r\n",
       "<polygon fill=\"black\" stroke=\"black\" points=\"476.519,-311.082 467.211,-306.021 471.331,-315.782 476.519,-311.082\"/>\r\n",
       "<text text-anchor=\"middle\" x=\"465.979\" y=\"-327.29\" font-family=\"Times New Roman,serif\" font-size=\"14.00\">True</text>\r\n",
       "</g>\r\n",
       "<!-- 8 -->\r\n",
       "<g id=\"node9\" class=\"node\"><title>8</title>\r\n",
       "<polygon fill=\"#adf4ca\" stroke=\"black\" points=\"722,-306 565,-306 565,-223 722,-223 722,-306\"/>\r\n",
       "<text text-anchor=\"middle\" x=\"643.5\" y=\"-290.8\" font-family=\"Times New Roman,serif\" font-size=\"14.00\">BuildingArea &lt;= 104.315</text>\r\n",
       "<text text-anchor=\"middle\" x=\"643.5\" y=\"-275.8\" font-family=\"Times New Roman,serif\" font-size=\"14.00\">entropy = 1.341</text>\r\n",
       "<text text-anchor=\"middle\" x=\"643.5\" y=\"-260.8\" font-family=\"Times New Roman,serif\" font-size=\"14.00\">samples = 440</text>\r\n",
       "<text text-anchor=\"middle\" x=\"643.5\" y=\"-245.8\" font-family=\"Times New Roman,serif\" font-size=\"14.00\">value = [54, 258, 128]</text>\r\n",
       "<text text-anchor=\"middle\" x=\"643.5\" y=\"-230.8\" font-family=\"Times New Roman,serif\" font-size=\"14.00\">class = Type_t</text>\r\n",
       "</g>\r\n",
       "<!-- 0&#45;&gt;8 -->\r\n",
       "<g id=\"edge8\" class=\"edge\"><title>0&#45;&gt;8</title>\r\n",
       "<path fill=\"none\" stroke=\"black\" d=\"M573.623,-341.907C582.006,-332.742 590.982,-322.927 599.613,-313.489\"/>\r\n",
       "<polygon fill=\"black\" stroke=\"black\" points=\"602.277,-315.762 606.443,-306.021 597.111,-311.038 602.277,-315.762\"/>\r\n",
       "<text text-anchor=\"middle\" x=\"607.557\" y=\"-327.296\" font-family=\"Times New Roman,serif\" font-size=\"14.00\">False</text>\r\n",
       "</g>\r\n",
       "<!-- 2 -->\r\n",
       "<g id=\"node3\" class=\"node\"><title>2</title>\r\n",
       "<polygon fill=\"#a572ed\" stroke=\"black\" points=\"259.5,-187 127.5,-187 127.5,-104 259.5,-104 259.5,-187\"/>\r\n",
       "<text text-anchor=\"middle\" x=\"193.5\" y=\"-171.8\" font-family=\"Times New Roman,serif\" font-size=\"14.00\">Price &lt;= 915000.0</text>\r\n",
       "<text text-anchor=\"middle\" x=\"193.5\" y=\"-156.8\" font-family=\"Times New Roman,serif\" font-size=\"14.00\">entropy = 0.974</text>\r\n",
       "<text text-anchor=\"middle\" x=\"193.5\" y=\"-141.8\" font-family=\"Times New Roman,serif\" font-size=\"14.00\">samples = 182</text>\r\n",
       "<text text-anchor=\"middle\" x=\"193.5\" y=\"-126.8\" font-family=\"Times New Roman,serif\" font-size=\"14.00\">value = [33, 10, 139]</text>\r\n",
       "<text text-anchor=\"middle\" x=\"193.5\" y=\"-111.8\" font-family=\"Times New Roman,serif\" font-size=\"14.00\">class = Type_u</text>\r\n",
       "</g>\r\n",
       "<!-- 1&#45;&gt;2 -->\r\n",
       "<g id=\"edge2\" class=\"edge\"><title>1&#45;&gt;2</title>\r\n",
       "<path fill=\"none\" stroke=\"black\" d=\"M360.994,-229.187C332.029,-214.888 298.324,-198.249 268.775,-183.661\"/>\r\n",
       "<polygon fill=\"black\" stroke=\"black\" points=\"270.264,-180.493 259.748,-179.205 267.165,-186.77 270.264,-180.493\"/>\r\n",
       "</g>\r\n",
       "<!-- 5 -->\r\n",
       "<g id=\"node6\" class=\"node\"><title>5</title>\r\n",
       "<polygon fill=\"#e99558\" stroke=\"black\" points=\"496.5,-187 364.5,-187 364.5,-104 496.5,-104 496.5,-187\"/>\r\n",
       "<text text-anchor=\"middle\" x=\"430.5\" y=\"-171.8\" font-family=\"Times New Roman,serif\" font-size=\"14.00\">Landsize &lt;= 429.0</text>\r\n",
       "<text text-anchor=\"middle\" x=\"430.5\" y=\"-156.8\" font-family=\"Times New Roman,serif\" font-size=\"14.00\">entropy = 0.737</text>\r\n",
       "<text text-anchor=\"middle\" x=\"430.5\" y=\"-141.8\" font-family=\"Times New Roman,serif\" font-size=\"14.00\">samples = 188</text>\r\n",
       "<text text-anchor=\"middle\" x=\"430.5\" y=\"-126.8\" font-family=\"Times New Roman,serif\" font-size=\"14.00\">value = [161, 13, 14]</text>\r\n",
       "<text text-anchor=\"middle\" x=\"430.5\" y=\"-111.8\" font-family=\"Times New Roman,serif\" font-size=\"14.00\">class = Type_h</text>\r\n",
       "</g>\r\n",
       "<!-- 1&#45;&gt;5 -->\r\n",
       "<g id=\"edge5\" class=\"edge\"><title>1&#45;&gt;5</title>\r\n",
       "<path fill=\"none\" stroke=\"black\" d=\"M430.5,-222.907C430.5,-214.649 430.5,-205.864 430.5,-197.302\"/>\r\n",
       "<polygon fill=\"black\" stroke=\"black\" points=\"434,-197.021 430.5,-187.021 427,-197.021 434,-197.021\"/>\r\n",
       "</g>\r\n",
       "<!-- 3 -->\r\n",
       "<g id=\"node4\" class=\"node\"><title>3</title>\r\n",
       "<polygon fill=\"#8f4fe8\" stroke=\"black\" points=\"119,-68 -7.10543e-015,-68 -7.10543e-015,-0 119,-0 119,-68\"/>\r\n",
       "<text text-anchor=\"middle\" x=\"59.5\" y=\"-52.8\" font-family=\"Times New Roman,serif\" font-size=\"14.00\">entropy = 0.595</text>\r\n",
       "<text text-anchor=\"middle\" x=\"59.5\" y=\"-37.8\" font-family=\"Times New Roman,serif\" font-size=\"14.00\">samples = 150</text>\r\n",
       "<text text-anchor=\"middle\" x=\"59.5\" y=\"-22.8\" font-family=\"Times New Roman,serif\" font-size=\"14.00\">value = [9, 7, 134]</text>\r\n",
       "<text text-anchor=\"middle\" x=\"59.5\" y=\"-7.8\" font-family=\"Times New Roman,serif\" font-size=\"14.00\">class = Type_u</text>\r\n",
       "</g>\r\n",
       "<!-- 2&#45;&gt;3 -->\r\n",
       "<g id=\"edge3\" class=\"edge\"><title>2&#45;&gt;3</title>\r\n",
       "<path fill=\"none\" stroke=\"black\" d=\"M143.603,-103.726C131.995,-94.2406 119.653,-84.1551 108.102,-74.7159\"/>\r\n",
       "<polygon fill=\"black\" stroke=\"black\" points=\"110.208,-71.9171 100.25,-68.2996 105.779,-77.3375 110.208,-71.9171\"/>\r\n",
       "</g>\r\n",
       "<!-- 4 -->\r\n",
       "<g id=\"node5\" class=\"node\"><title>4</title>\r\n",
       "<polygon fill=\"#eda674\" stroke=\"black\" points=\"249.5,-68 137.5,-68 137.5,-0 249.5,-0 249.5,-68\"/>\r\n",
       "<text text-anchor=\"middle\" x=\"193.5\" y=\"-52.8\" font-family=\"Times New Roman,serif\" font-size=\"14.00\">entropy = 1.05</text>\r\n",
       "<text text-anchor=\"middle\" x=\"193.5\" y=\"-37.8\" font-family=\"Times New Roman,serif\" font-size=\"14.00\">samples = 32</text>\r\n",
       "<text text-anchor=\"middle\" x=\"193.5\" y=\"-22.8\" font-family=\"Times New Roman,serif\" font-size=\"14.00\">value = [24, 3, 5]</text>\r\n",
       "<text text-anchor=\"middle\" x=\"193.5\" y=\"-7.8\" font-family=\"Times New Roman,serif\" font-size=\"14.00\">class = Type_h</text>\r\n",
       "</g>\r\n",
       "<!-- 2&#45;&gt;4 -->\r\n",
       "<g id=\"edge4\" class=\"edge\"><title>2&#45;&gt;4</title>\r\n",
       "<path fill=\"none\" stroke=\"black\" d=\"M193.5,-103.726C193.5,-95.5175 193.5,-86.8595 193.5,-78.56\"/>\r\n",
       "<polygon fill=\"black\" stroke=\"black\" points=\"197,-78.2996 193.5,-68.2996 190,-78.2996 197,-78.2996\"/>\r\n",
       "</g>\r\n",
       "<!-- 6 -->\r\n",
       "<g id=\"node7\" class=\"node\"><title>6</title>\r\n",
       "<polygon fill=\"#efb285\" stroke=\"black\" points=\"393,-68 268,-68 268,-0 393,-0 393,-68\"/>\r\n",
       "<text text-anchor=\"middle\" x=\"330.5\" y=\"-52.8\" font-family=\"Times New Roman,serif\" font-size=\"14.00\">entropy = 1.22</text>\r\n",
       "<text text-anchor=\"middle\" x=\"330.5\" y=\"-37.8\" font-family=\"Times New Roman,serif\" font-size=\"14.00\">samples = 69</text>\r\n",
       "<text text-anchor=\"middle\" x=\"330.5\" y=\"-22.8\" font-family=\"Times New Roman,serif\" font-size=\"14.00\">value = [47, 10, 12]</text>\r\n",
       "<text text-anchor=\"middle\" x=\"330.5\" y=\"-7.8\" font-family=\"Times New Roman,serif\" font-size=\"14.00\">class = Type_h</text>\r\n",
       "</g>\r\n",
       "<!-- 5&#45;&gt;6 -->\r\n",
       "<g id=\"edge6\" class=\"edge\"><title>5&#45;&gt;6</title>\r\n",
       "<path fill=\"none\" stroke=\"black\" d=\"M393.264,-103.726C384.934,-94.6054 376.098,-84.93 367.767,-75.8078\"/>\r\n",
       "<polygon fill=\"black\" stroke=\"black\" points=\"370.239,-73.3235 360.911,-68.2996 365.07,-78.044 370.239,-73.3235\"/>\r\n",
       "</g>\r\n",
       "<!-- 7 -->\r\n",
       "<g id=\"node8\" class=\"node\"><title>7</title>\r\n",
       "<polygon fill=\"#e68642\" stroke=\"black\" points=\"530,-68 411,-68 411,-0 530,-0 530,-68\"/>\r\n",
       "<text text-anchor=\"middle\" x=\"470.5\" y=\"-52.8\" font-family=\"Times New Roman,serif\" font-size=\"14.00\">entropy = 0.292</text>\r\n",
       "<text text-anchor=\"middle\" x=\"470.5\" y=\"-37.8\" font-family=\"Times New Roman,serif\" font-size=\"14.00\">samples = 119</text>\r\n",
       "<text text-anchor=\"middle\" x=\"470.5\" y=\"-22.8\" font-family=\"Times New Roman,serif\" font-size=\"14.00\">value = [114, 3, 2]</text>\r\n",
       "<text text-anchor=\"middle\" x=\"470.5\" y=\"-7.8\" font-family=\"Times New Roman,serif\" font-size=\"14.00\">class = Type_h</text>\r\n",
       "</g>\r\n",
       "<!-- 5&#45;&gt;7 -->\r\n",
       "<g id=\"edge7\" class=\"edge\"><title>5&#45;&gt;7</title>\r\n",
       "<path fill=\"none\" stroke=\"black\" d=\"M445.395,-103.726C448.493,-95.2439 451.767,-86.2819 454.89,-77.7312\"/>\r\n",
       "<polygon fill=\"black\" stroke=\"black\" points=\"458.192,-78.8935 458.336,-68.2996 451.617,-76.4916 458.192,-78.8935\"/>\r\n",
       "</g>\r\n",
       "<!-- 9 -->\r\n",
       "<g id=\"node10\" class=\"node\"><title>9</title>\r\n",
       "<polygon fill=\"#c8a8f4\" stroke=\"black\" points=\"703,-187 584,-187 584,-104 703,-104 703,-187\"/>\r\n",
       "<text text-anchor=\"middle\" x=\"643.5\" y=\"-171.8\" font-family=\"Times New Roman,serif\" font-size=\"14.00\">Landsize &lt;= 76.0</text>\r\n",
       "<text text-anchor=\"middle\" x=\"643.5\" y=\"-156.8\" font-family=\"Times New Roman,serif\" font-size=\"14.00\">entropy = 1.118</text>\r\n",
       "<text text-anchor=\"middle\" x=\"643.5\" y=\"-141.8\" font-family=\"Times New Roman,serif\" font-size=\"14.00\">samples = 145</text>\r\n",
       "<text text-anchor=\"middle\" x=\"643.5\" y=\"-126.8\" font-family=\"Times New Roman,serif\" font-size=\"14.00\">value = [5, 49, 91]</text>\r\n",
       "<text text-anchor=\"middle\" x=\"643.5\" y=\"-111.8\" font-family=\"Times New Roman,serif\" font-size=\"14.00\">class = Type_u</text>\r\n",
       "</g>\r\n",
       "<!-- 8&#45;&gt;9 -->\r\n",
       "<g id=\"edge9\" class=\"edge\"><title>8&#45;&gt;9</title>\r\n",
       "<path fill=\"none\" stroke=\"black\" d=\"M643.5,-222.907C643.5,-214.649 643.5,-205.864 643.5,-197.302\"/>\r\n",
       "<polygon fill=\"black\" stroke=\"black\" points=\"647,-197.021 643.5,-187.021 640,-197.021 647,-197.021\"/>\r\n",
       "</g>\r\n",
       "<!-- 12 -->\r\n",
       "<g id=\"node13\" class=\"node\"><title>12</title>\r\n",
       "<polygon fill=\"#7eeead\" stroke=\"black\" points=\"948.5,-187 816.5,-187 816.5,-104 948.5,-104 948.5,-187\"/>\r\n",
       "<text text-anchor=\"middle\" x=\"882.5\" y=\"-171.8\" font-family=\"Times New Roman,serif\" font-size=\"14.00\">Landsize &lt;= 391.0</text>\r\n",
       "<text text-anchor=\"middle\" x=\"882.5\" y=\"-156.8\" font-family=\"Times New Roman,serif\" font-size=\"14.00\">entropy = 1.158</text>\r\n",
       "<text text-anchor=\"middle\" x=\"882.5\" y=\"-141.8\" font-family=\"Times New Roman,serif\" font-size=\"14.00\">samples = 295</text>\r\n",
       "<text text-anchor=\"middle\" x=\"882.5\" y=\"-126.8\" font-family=\"Times New Roman,serif\" font-size=\"14.00\">value = [49, 209, 37]</text>\r\n",
       "<text text-anchor=\"middle\" x=\"882.5\" y=\"-111.8\" font-family=\"Times New Roman,serif\" font-size=\"14.00\">class = Type_t</text>\r\n",
       "</g>\r\n",
       "<!-- 8&#45;&gt;12 -->\r\n",
       "<g id=\"edge12\" class=\"edge\"><title>8&#45;&gt;12</title>\r\n",
       "<path fill=\"none\" stroke=\"black\" d=\"M722.089,-225.028C749.469,-211.624 780.109,-196.625 807.215,-183.355\"/>\r\n",
       "<polygon fill=\"black\" stroke=\"black\" points=\"808.82,-186.466 816.262,-178.926 805.742,-180.179 808.82,-186.466\"/>\r\n",
       "</g>\r\n",
       "<!-- 10 -->\r\n",
       "<g id=\"node11\" class=\"node\"><title>10</title>\r\n",
       "<polygon fill=\"#9253e8\" stroke=\"black\" points=\"660.5,-68 548.5,-68 548.5,-0 660.5,-0 660.5,-68\"/>\r\n",
       "<text text-anchor=\"middle\" x=\"604.5\" y=\"-52.8\" font-family=\"Times New Roman,serif\" font-size=\"14.00\">entropy = 0.523</text>\r\n",
       "<text text-anchor=\"middle\" x=\"604.5\" y=\"-37.8\" font-family=\"Times New Roman,serif\" font-size=\"14.00\">samples = 68</text>\r\n",
       "<text text-anchor=\"middle\" x=\"604.5\" y=\"-22.8\" font-family=\"Times New Roman,serif\" font-size=\"14.00\">value = [0, 8, 60]</text>\r\n",
       "<text text-anchor=\"middle\" x=\"604.5\" y=\"-7.8\" font-family=\"Times New Roman,serif\" font-size=\"14.00\">class = Type_u</text>\r\n",
       "</g>\r\n",
       "<!-- 9&#45;&gt;10 -->\r\n",
       "<g id=\"edge10\" class=\"edge\"><title>9&#45;&gt;10</title>\r\n",
       "<path fill=\"none\" stroke=\"black\" d=\"M628.978,-103.726C625.957,-95.2439 622.765,-86.2819 619.719,-77.7312\"/>\r\n",
       "<polygon fill=\"black\" stroke=\"black\" points=\"623.013,-76.5456 616.36,-68.2996 616.418,-78.8943 623.013,-76.5456\"/>\r\n",
       "</g>\r\n",
       "<!-- 11 -->\r\n",
       "<g id=\"node12\" class=\"node\"><title>11</title>\r\n",
       "<polygon fill=\"#d4f9e4\" stroke=\"black\" points=\"798,-68 679,-68 679,-0 798,-0 798,-68\"/>\r\n",
       "<text text-anchor=\"middle\" x=\"738.5\" y=\"-52.8\" font-family=\"Times New Roman,serif\" font-size=\"14.00\">entropy = 1.269</text>\r\n",
       "<text text-anchor=\"middle\" x=\"738.5\" y=\"-37.8\" font-family=\"Times New Roman,serif\" font-size=\"14.00\">samples = 77</text>\r\n",
       "<text text-anchor=\"middle\" x=\"738.5\" y=\"-22.8\" font-family=\"Times New Roman,serif\" font-size=\"14.00\">value = [5, 41, 31]</text>\r\n",
       "<text text-anchor=\"middle\" x=\"738.5\" y=\"-7.8\" font-family=\"Times New Roman,serif\" font-size=\"14.00\">class = Type_t</text>\r\n",
       "</g>\r\n",
       "<!-- 9&#45;&gt;11 -->\r\n",
       "<g id=\"edge11\" class=\"edge\"><title>9&#45;&gt;11</title>\r\n",
       "<path fill=\"none\" stroke=\"black\" d=\"M678.874,-103.726C686.708,-94.6966 695.014,-85.1235 702.858,-76.0816\"/>\r\n",
       "<polygon fill=\"black\" stroke=\"black\" points=\"705.7,-78.1467 709.61,-68.2996 700.413,-73.5595 705.7,-78.1467\"/>\r\n",
       "</g>\r\n",
       "<!-- 13 -->\r\n",
       "<g id=\"node14\" class=\"node\"><title>13</title>\r\n",
       "<polygon fill=\"#69eb9f\" stroke=\"black\" points=\"948.5,-68 816.5,-68 816.5,-0 948.5,-0 948.5,-68\"/>\r\n",
       "<text text-anchor=\"middle\" x=\"882.5\" y=\"-52.8\" font-family=\"Times New Roman,serif\" font-size=\"14.00\">entropy = 0.933</text>\r\n",
       "<text text-anchor=\"middle\" x=\"882.5\" y=\"-37.8\" font-family=\"Times New Roman,serif\" font-size=\"14.00\">samples = 245</text>\r\n",
       "<text text-anchor=\"middle\" x=\"882.5\" y=\"-22.8\" font-family=\"Times New Roman,serif\" font-size=\"14.00\">value = [18, 194, 33]</text>\r\n",
       "<text text-anchor=\"middle\" x=\"882.5\" y=\"-7.8\" font-family=\"Times New Roman,serif\" font-size=\"14.00\">class = Type_t</text>\r\n",
       "</g>\r\n",
       "<!-- 12&#45;&gt;13 -->\r\n",
       "<g id=\"edge13\" class=\"edge\"><title>12&#45;&gt;13</title>\r\n",
       "<path fill=\"none\" stroke=\"black\" d=\"M882.5,-103.726C882.5,-95.5175 882.5,-86.8595 882.5,-78.56\"/>\r\n",
       "<polygon fill=\"black\" stroke=\"black\" points=\"886,-78.2996 882.5,-68.2996 879,-78.2996 886,-78.2996\"/>\r\n",
       "</g>\r\n",
       "<!-- 14 -->\r\n",
       "<g id=\"node15\" class=\"node\"><title>14</title>\r\n",
       "<polygon fill=\"#f3c5a4\" stroke=\"black\" points=\"1086,-68 967,-68 967,-0 1086,-0 1086,-68\"/>\r\n",
       "<text text-anchor=\"middle\" x=\"1026.5\" y=\"-52.8\" font-family=\"Times New Roman,serif\" font-size=\"14.00\">entropy = 1.24</text>\r\n",
       "<text text-anchor=\"middle\" x=\"1026.5\" y=\"-37.8\" font-family=\"Times New Roman,serif\" font-size=\"14.00\">samples = 50</text>\r\n",
       "<text text-anchor=\"middle\" x=\"1026.5\" y=\"-22.8\" font-family=\"Times New Roman,serif\" font-size=\"14.00\">value = [31, 15, 4]</text>\r\n",
       "<text text-anchor=\"middle\" x=\"1026.5\" y=\"-7.8\" font-family=\"Times New Roman,serif\" font-size=\"14.00\">class = Type_h</text>\r\n",
       "</g>\r\n",
       "<!-- 12&#45;&gt;14 -->\r\n",
       "<g id=\"edge14\" class=\"edge\"><title>12&#45;&gt;14</title>\r\n",
       "<path fill=\"none\" stroke=\"black\" d=\"M936.12,-103.726C948.715,-94.1494 962.113,-83.9611 974.629,-74.4438\"/>\r\n",
       "<polygon fill=\"black\" stroke=\"black\" points=\"976.867,-77.1386 982.709,-68.2996 972.63,-71.5666 976.867,-77.1386\"/>\r\n",
       "</g>\r\n",
       "</g>\r\n",
       "</svg>\r\n"
      ],
      "text/plain": [
       "<graphviz.files.Source at 0x28f2962b040>"
      ]
     },
     "execution_count": 15,
     "metadata": {},
     "output_type": "execute_result"
    }
   ],
   "source": [
    "# Display graphviz version of the tree\n",
    "dot_data = tree.export_graphviz(clf, out_file=None,filled = True, feature_names = one_hot_data.columns, class_names = one_hot_type.columns) \n",
    "graph = graphviz.Source(dot_data) \n",
    "graph"
   ]
  },
  {
   "cell_type": "markdown",
   "metadata": {},
   "source": [
    "➡️ Answer containing your descriptive analytics in markdown here ⬅️\n",
    "It appears that most properties with a large land size > 429 are of type h with the lowest degree of impurity on this factor, conversely most properties with a small landsize < 76 are of type u with a low degree of impurity. We also see that properties with less than 2.5 rooms that cost less than 915,000 are of type u as well with low impurity. "
   ]
  },
  {
   "cell_type": "markdown",
   "metadata": {},
   "source": [
    "## Q7 Calculate the Accuracy and Display Learning Curve\n",
    "Load in the test data from melb_tree_test.csv.\n",
    "\n",
    "Use the scikit-learn library to create many decision trees, each one with a different configuration (aka Hyperparameters).  You will create 28 different trees by:\n",
    "\n",
    "    - Varying the max depth from 2 to 15 with the Gini Index as the impurity measure\n",
    "    - Varying the max depth from 2 to 15 with the Entropy as the impurity measure\n",
    "\n",
    "Implementation tip: you can create an array of numbers from 2 to 15 by using the numpy function [arange](https://numpy.org/doc/stable/reference/generated/numpy.arange.html).\n",
    "\n",
    "For each of the 28 decistion trees, calculate the error rate by using the data in the: \n",
    "  - Training set, and\n",
    "  - Test set.\n",
    "\n",
    "Display the results graphicaly, and offer an analysis of the trend (or if no trend present, offer a hypotheisis of why).  The max depth should be on the x-axis, and the error rate should be on the y-axis (see figure 3.23 in your DM textbook for a similar style of graph that uses leaf nodes instead of depth for the x-axis). Your plot will include 4 series of data\n",
    "   - Test error (entropy)\n",
    "   - Test error (gini index)\n",
    "   - Training error (entropy)\n",
    "   - Training error (gini index)"
   ]
  },
  {
   "cell_type": "code",
   "execution_count": 16,
   "metadata": {},
   "outputs": [],
   "source": [
    "# Load in the test data\n",
    "df_test = pd.read_csv(\"melb_tree_test.csv\")\n",
    "s_y_test = pd.DataFrame(df_test, columns=['Type'])\n",
    "df_X_test = df.drop(columns = 'Type')"
   ]
  },
  {
   "cell_type": "code",
   "execution_count": 17,
   "metadata": {},
   "outputs": [],
   "source": [
    "# Build the trees using the training data\n"
   ]
  },
  {
   "cell_type": "code",
   "execution_count": 18,
   "metadata": {},
   "outputs": [
    {
     "data": {
      "text/html": [
       "<div>\n",
       "<style scoped>\n",
       "    .dataframe tbody tr th:only-of-type {\n",
       "        vertical-align: middle;\n",
       "    }\n",
       "\n",
       "    .dataframe tbody tr th {\n",
       "        vertical-align: top;\n",
       "    }\n",
       "\n",
       "    .dataframe thead th {\n",
       "        text-align: right;\n",
       "    }\n",
       "</style>\n",
       "<table border=\"1\" class=\"dataframe\">\n",
       "  <thead>\n",
       "    <tr style=\"text-align: right;\">\n",
       "      <th></th>\n",
       "      <th>Rooms</th>\n",
       "      <th>Price</th>\n",
       "      <th>Distance</th>\n",
       "      <th>Bedroom2</th>\n",
       "      <th>Bathroom</th>\n",
       "      <th>Car</th>\n",
       "      <th>Landsize</th>\n",
       "      <th>BuildingArea</th>\n",
       "      <th>YearBuilt</th>\n",
       "      <th>CouncilArea</th>\n",
       "    </tr>\n",
       "  </thead>\n",
       "  <tbody>\n",
       "    <tr>\n",
       "      <th>0</th>\n",
       "      <td>2</td>\n",
       "      <td>771000.0</td>\n",
       "      <td>13.8</td>\n",
       "      <td>2.0</td>\n",
       "      <td>1.0</td>\n",
       "      <td>1.0</td>\n",
       "      <td>0.0</td>\n",
       "      <td>99.0</td>\n",
       "      <td>1992.0</td>\n",
       "      <td>Bayside</td>\n",
       "    </tr>\n",
       "    <tr>\n",
       "      <th>1</th>\n",
       "      <td>3</td>\n",
       "      <td>700000.0</td>\n",
       "      <td>7.9</td>\n",
       "      <td>3.0</td>\n",
       "      <td>2.0</td>\n",
       "      <td>1.0</td>\n",
       "      <td>189.0</td>\n",
       "      <td>110.0</td>\n",
       "      <td>1990.0</td>\n",
       "      <td>Banyule</td>\n",
       "    </tr>\n",
       "    <tr>\n",
       "      <th>2</th>\n",
       "      <td>3</td>\n",
       "      <td>975000.0</td>\n",
       "      <td>12.1</td>\n",
       "      <td>3.0</td>\n",
       "      <td>2.0</td>\n",
       "      <td>1.0</td>\n",
       "      <td>277.0</td>\n",
       "      <td>109.0</td>\n",
       "      <td>1975.0</td>\n",
       "      <td>Glen Eira</td>\n",
       "    </tr>\n",
       "    <tr>\n",
       "      <th>3</th>\n",
       "      <td>3</td>\n",
       "      <td>1290000.0</td>\n",
       "      <td>8.0</td>\n",
       "      <td>3.0</td>\n",
       "      <td>1.0</td>\n",
       "      <td>1.0</td>\n",
       "      <td>618.0</td>\n",
       "      <td>132.0</td>\n",
       "      <td>1960.0</td>\n",
       "      <td>Moonee Valley</td>\n",
       "    </tr>\n",
       "    <tr>\n",
       "      <th>4</th>\n",
       "      <td>2</td>\n",
       "      <td>500000.0</td>\n",
       "      <td>4.2</td>\n",
       "      <td>2.0</td>\n",
       "      <td>1.0</td>\n",
       "      <td>1.0</td>\n",
       "      <td>0.0</td>\n",
       "      <td>86.0</td>\n",
       "      <td>2000.0</td>\n",
       "      <td>Melbourne</td>\n",
       "    </tr>\n",
       "    <tr>\n",
       "      <th>...</th>\n",
       "      <td>...</td>\n",
       "      <td>...</td>\n",
       "      <td>...</td>\n",
       "      <td>...</td>\n",
       "      <td>...</td>\n",
       "      <td>...</td>\n",
       "      <td>...</td>\n",
       "      <td>...</td>\n",
       "      <td>...</td>\n",
       "      <td>...</td>\n",
       "    </tr>\n",
       "    <tr>\n",
       "      <th>805</th>\n",
       "      <td>2</td>\n",
       "      <td>855000.0</td>\n",
       "      <td>11.4</td>\n",
       "      <td>2.0</td>\n",
       "      <td>1.0</td>\n",
       "      <td>1.0</td>\n",
       "      <td>158.0</td>\n",
       "      <td>106.0</td>\n",
       "      <td>1994.0</td>\n",
       "      <td>Glen Eira</td>\n",
       "    </tr>\n",
       "    <tr>\n",
       "      <th>806</th>\n",
       "      <td>2</td>\n",
       "      <td>696000.0</td>\n",
       "      <td>2.6</td>\n",
       "      <td>2.0</td>\n",
       "      <td>2.0</td>\n",
       "      <td>1.0</td>\n",
       "      <td>0.0</td>\n",
       "      <td>68.0</td>\n",
       "      <td>2008.0</td>\n",
       "      <td>Yarra</td>\n",
       "    </tr>\n",
       "    <tr>\n",
       "      <th>807</th>\n",
       "      <td>2</td>\n",
       "      <td>520000.0</td>\n",
       "      <td>9.9</td>\n",
       "      <td>2.0</td>\n",
       "      <td>1.0</td>\n",
       "      <td>1.0</td>\n",
       "      <td>0.0</td>\n",
       "      <td>82.0</td>\n",
       "      <td>2011.0</td>\n",
       "      <td>Moreland</td>\n",
       "    </tr>\n",
       "    <tr>\n",
       "      <th>808</th>\n",
       "      <td>3</td>\n",
       "      <td>815000.0</td>\n",
       "      <td>4.3</td>\n",
       "      <td>3.0</td>\n",
       "      <td>2.0</td>\n",
       "      <td>2.0</td>\n",
       "      <td>198.0</td>\n",
       "      <td>130.0</td>\n",
       "      <td>1990.0</td>\n",
       "      <td>Maribyrnong</td>\n",
       "    </tr>\n",
       "    <tr>\n",
       "      <th>809</th>\n",
       "      <td>3</td>\n",
       "      <td>1302500.0</td>\n",
       "      <td>11.2</td>\n",
       "      <td>3.0</td>\n",
       "      <td>2.0</td>\n",
       "      <td>2.0</td>\n",
       "      <td>0.0</td>\n",
       "      <td>171.0</td>\n",
       "      <td>1993.0</td>\n",
       "      <td>Bayside</td>\n",
       "    </tr>\n",
       "  </tbody>\n",
       "</table>\n",
       "<p>810 rows × 10 columns</p>\n",
       "</div>"
      ],
      "text/plain": [
       "     Rooms      Price  Distance  Bedroom2  Bathroom  Car  Landsize  \\\n",
       "0        2   771000.0      13.8       2.0       1.0  1.0       0.0   \n",
       "1        3   700000.0       7.9       3.0       2.0  1.0     189.0   \n",
       "2        3   975000.0      12.1       3.0       2.0  1.0     277.0   \n",
       "3        3  1290000.0       8.0       3.0       1.0  1.0     618.0   \n",
       "4        2   500000.0       4.2       2.0       1.0  1.0       0.0   \n",
       "..     ...        ...       ...       ...       ...  ...       ...   \n",
       "805      2   855000.0      11.4       2.0       1.0  1.0     158.0   \n",
       "806      2   696000.0       2.6       2.0       2.0  1.0       0.0   \n",
       "807      2   520000.0       9.9       2.0       1.0  1.0       0.0   \n",
       "808      3   815000.0       4.3       3.0       2.0  2.0     198.0   \n",
       "809      3  1302500.0      11.2       3.0       2.0  2.0       0.0   \n",
       "\n",
       "     BuildingArea  YearBuilt    CouncilArea  \n",
       "0            99.0     1992.0        Bayside  \n",
       "1           110.0     1990.0        Banyule  \n",
       "2           109.0     1975.0      Glen Eira  \n",
       "3           132.0     1960.0  Moonee Valley  \n",
       "4            86.0     2000.0      Melbourne  \n",
       "..            ...        ...            ...  \n",
       "805         106.0     1994.0      Glen Eira  \n",
       "806          68.0     2008.0          Yarra  \n",
       "807          82.0     2011.0       Moreland  \n",
       "808         130.0     1990.0    Maribyrnong  \n",
       "809         171.0     1993.0        Bayside  \n",
       "\n",
       "[810 rows x 10 columns]"
      ]
     },
     "execution_count": 18,
     "metadata": {},
     "output_type": "execute_result"
    }
   ],
   "source": [
    "# Plot the 4 learning curves\n",
    "df_X\n"
   ]
  },
  {
   "cell_type": "markdown",
   "metadata": {},
   "source": [
    "➡️ Answer containing your analysis of the trend (or if no trend present, offer a hypotheisis of why) here ⬅️"
   ]
  }
 ],
 "metadata": {
  "kernelspec": {
   "display_name": "Python 3",
   "language": "python",
   "name": "python3"
  },
  "language_info": {
   "codemirror_mode": {
    "name": "ipython",
    "version": 3
   },
   "file_extension": ".py",
   "mimetype": "text/x-python",
   "name": "python",
   "nbconvert_exporter": "python",
   "pygments_lexer": "ipython3",
   "version": "3.8.5"
  }
 },
 "nbformat": 4,
 "nbformat_minor": 4
}
